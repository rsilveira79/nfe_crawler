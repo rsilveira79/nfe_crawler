{
 "cells": [
  {
   "cell_type": "code",
   "execution_count": 1,
   "metadata": {
    "collapsed": false
   },
   "outputs": [],
   "source": [
    "import requests\n",
    "import re\n",
    "import sys\n",
    "from bs4 import BeautifulSoup\n",
    "from requests.auth import HTTPBasicAuth, HTTPDigestAuth\n",
    "import pandas as pd\n",
    "import scrapy"
   ]
  },
  {
   "cell_type": "code",
   "execution_count": 2,
   "metadata": {
    "collapsed": false
   },
   "outputs": [],
   "source": [
    "#Configuration parameters\n",
    "url_dummy = 'https://nfg.sefaz.rs.gov.br/Login/LoginNfbsdsasax'\n",
    "login_url = 'https://nfg.sefaz.rs.gov.br/Login/LoginNfg.aspx'\n",
    "headers = {'user-agent': 'my-app/0.0.1'}\n",
    "user='95511709034'\n",
    "passwd='123dealmeida4' \n",
    "login_data = dict(nro_cpf_loginNfg_cabec=user,senha_loginNfg_cabec = passwd)\n",
    "\n",
    "#login info (from NFG website)\n",
    "# CPF = nro_cpf_loginNfg_cabec\n",
    "# SENHA = senha_loginNfg_cabec"
   ]
  },
  {
   "cell_type": "markdown",
   "metadata": {
    "collapsed": false
   },
   "source": [
    "Request para o site do Nota Fiscal Gaucha"
   ]
  },
  {
   "cell_type": "code",
   "execution_count": 3,
   "metadata": {
    "collapsed": false
   },
   "outputs": [
    {
     "name": "stdout",
     "output_type": "stream",
     "text": [
      "Page cookis:  <RequestsCookieJar[]>\n",
      "Page headers:  {'content-length': '3999', 'content-encoding': 'gzip', 'x-aspnet-version': '4.0.30319', 'vary': 'Accept-Encoding', 'server': 'Microsoft-IIS/7.5', 'cache-control': 'private', 'date': 'Thu, 21 Apr 2016 14:00:54 GMT', 'x-powered-by': 'ASP.NET, ARR/2.5, ASP.NET', 'content-type': 'text/html; charset=utf-8'}\n",
      "Request status code:  200\n",
      "{}\n",
      "True\n",
      "Username-password invalid\n"
     ]
    }
   ],
   "source": [
    "with requests.Session() as c:\n",
    "    c.get(login_url)\n",
    "    c.post(url = login_url, data = login_data)\n",
    "    page = c.get(login_url)\n",
    "    print \"Page cookis: \",page.cookies\n",
    "    print \"Page headers: \", page.headers\n",
    "    print \"Request status code: \", page.status_code\n",
    "    print page.links\n",
    "    print page.ok\n",
    "    if requests.HTTPError:\n",
    "        print 'Username-password invalid'"
   ]
  },
  {
   "cell_type": "code",
   "execution_count": 72,
   "metadata": {
    "collapsed": false
   },
   "outputs": [],
   "source": [
    "class LoginSpider(scrapy.Spider):\n",
    "    name = 'tdo'\n",
    "    start_urls = ['https://nfg.sefaz.rs.gov.br/Login/LoginNfg.aspx']\n",
    "    \n",
    "    def parse(self, response):\n",
    "        return scrapy.FormRequest.from_response(\n",
    "            response,\n",
    "            formdata={'nro_cpf_loginNfg_cabec': '95511709034', 'senha_loginNfg_cabec': 'gremio79'},\n",
    "            callback=self.after_login\n",
    "        )\n",
    "    def after_login(self, response):\n",
    "        # check login succeed before going on\n",
    "        if \"authentication failed\" in response.body:\n",
    "            self.logger.error(\"Login failed\")\n",
    "            return"
   ]
  },
  {
   "cell_type": "code",
   "execution_count": 70,
   "metadata": {
    "collapsed": false
   },
   "outputs": [],
   "source": [
    "x=LoginSpider('https://nfg.sefaz.rs.gov.br/Login/LoginNfg.aspx')"
   ]
  },
  {
   "cell_type": "code",
   "execution_count": 71,
   "metadata": {
    "collapsed": false
   },
   "outputs": [
    {
     "data": {
      "text/plain": [
       "<bound method LoginSpider.log of <LoginSpider 'https://nfg.sefaz.rs.gov.br/Login/LoginNfg.aspx' at 0xc7d39e8>>"
      ]
     },
     "execution_count": 71,
     "metadata": {},
     "output_type": "execute_result"
    }
   ],
   "source": [
    "x.log"
   ]
  },
  {
   "cell_type": "code",
   "execution_count": null,
   "metadata": {
    "collapsed": true
   },
   "outputs": [],
   "source": []
  },
  {
   "cell_type": "code",
   "execution_count": null,
   "metadata": {
    "collapsed": true
   },
   "outputs": [],
   "source": []
  },
  {
   "cell_type": "code",
   "execution_count": null,
   "metadata": {
    "collapsed": true
   },
   "outputs": [],
   "source": []
  }
 ],
 "metadata": {
  "kernelspec": {
   "display_name": "Python 2",
   "language": "python",
   "name": "python2"
  },
  "language_info": {
   "codemirror_mode": {
    "name": "ipython",
    "version": 2
   },
   "file_extension": ".py",
   "mimetype": "text/x-python",
   "name": "python",
   "nbconvert_exporter": "python",
   "pygments_lexer": "ipython2",
   "version": "2.7.10"
  }
 },
 "nbformat": 4,
 "nbformat_minor": 0
}
